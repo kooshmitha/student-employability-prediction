{
 "cells": [
  {
   "cell_type": "code",
   "execution_count": 1,
   "id": "616e48ed",
   "metadata": {},
   "outputs": [],
   "source": [
    "import pandas as pd\n",
    "from sklearn.model_selection import train_test_split\n",
    "from sklearn.ensemble import RandomForestClassifier\n",
    "from sklearn.impute import SimpleImputer\n",
    "from sklearn.metrics import classification_report, accuracy_score\n",
    "from sklearn.preprocessing import LabelEncoder"
   ]
  },
  {
   "cell_type": "code",
   "execution_count": 2,
   "id": "7e053f3a",
   "metadata": {},
   "outputs": [],
   "source": [
    "data = pd.read_csv(\"Copy-of-Student-Employability-Datasets.csv\")"
   ]
  },
  {
   "cell_type": "code",
   "execution_count": 3,
   "id": "74d5c660",
   "metadata": {},
   "outputs": [],
   "source": [
    "import warnings\n",
    "warnings.filterwarnings('ignore')"
   ]
  },
  {
   "cell_type": "code",
   "execution_count": 4,
   "id": "9358c1af",
   "metadata": {},
   "outputs": [
    {
     "data": {
      "text/html": [
       "<div>\n",
       "<style scoped>\n",
       "    .dataframe tbody tr th:only-of-type {\n",
       "        vertical-align: middle;\n",
       "    }\n",
       "\n",
       "    .dataframe tbody tr th {\n",
       "        vertical-align: top;\n",
       "    }\n",
       "\n",
       "    .dataframe thead th {\n",
       "        text-align: right;\n",
       "    }\n",
       "</style>\n",
       "<table border=\"1\" class=\"dataframe\">\n",
       "  <thead>\n",
       "    <tr style=\"text-align: right;\">\n",
       "      <th></th>\n",
       "      <th>Name of Student</th>\n",
       "      <th>GENERAL APPEARANCE</th>\n",
       "      <th>MANNER OF SPEAKING</th>\n",
       "      <th>PHYSICAL CONDITION</th>\n",
       "      <th>MENTAL ALERTNESS</th>\n",
       "      <th>SELF-CONFIDENCE</th>\n",
       "      <th>ABILITY TO PRESENT IDEAS</th>\n",
       "      <th>COMMUNICATION SKILLS</th>\n",
       "      <th>certifications</th>\n",
       "      <th>workshops</th>\n",
       "      <th>Student Performance Rating</th>\n",
       "      <th>CLASS</th>\n",
       "      <th>Suggested Job Role</th>\n",
       "    </tr>\n",
       "  </thead>\n",
       "  <tbody>\n",
       "    <tr>\n",
       "      <th>0</th>\n",
       "      <td>Student 1</td>\n",
       "      <td>4</td>\n",
       "      <td>5</td>\n",
       "      <td>4</td>\n",
       "      <td>5</td>\n",
       "      <td>5</td>\n",
       "      <td>5</td>\n",
       "      <td>5</td>\n",
       "      <td>shell programming</td>\n",
       "      <td>cloud computing</td>\n",
       "      <td>5</td>\n",
       "      <td>Employable</td>\n",
       "      <td>Database Developer</td>\n",
       "    </tr>\n",
       "    <tr>\n",
       "      <th>1</th>\n",
       "      <td>Student 2</td>\n",
       "      <td>4</td>\n",
       "      <td>4</td>\n",
       "      <td>4</td>\n",
       "      <td>4</td>\n",
       "      <td>4</td>\n",
       "      <td>4</td>\n",
       "      <td>3</td>\n",
       "      <td>machine learning</td>\n",
       "      <td>database security</td>\n",
       "      <td>5</td>\n",
       "      <td>Employable</td>\n",
       "      <td>Portal Administrator</td>\n",
       "    </tr>\n",
       "    <tr>\n",
       "      <th>2</th>\n",
       "      <td>Student 3</td>\n",
       "      <td>4</td>\n",
       "      <td>3</td>\n",
       "      <td>3</td>\n",
       "      <td>3</td>\n",
       "      <td>3</td>\n",
       "      <td>3</td>\n",
       "      <td>2</td>\n",
       "      <td>app development</td>\n",
       "      <td>web technologies</td>\n",
       "      <td>5</td>\n",
       "      <td>LessEmployable</td>\n",
       "      <td>Portal Administrator</td>\n",
       "    </tr>\n",
       "    <tr>\n",
       "      <th>3</th>\n",
       "      <td>Student 4</td>\n",
       "      <td>3</td>\n",
       "      <td>3</td>\n",
       "      <td>3</td>\n",
       "      <td>2</td>\n",
       "      <td>3</td>\n",
       "      <td>3</td>\n",
       "      <td>3</td>\n",
       "      <td>python</td>\n",
       "      <td>data science</td>\n",
       "      <td>5</td>\n",
       "      <td>LessEmployable</td>\n",
       "      <td>Systems Security Administrator</td>\n",
       "    </tr>\n",
       "    <tr>\n",
       "      <th>4</th>\n",
       "      <td>Student 5</td>\n",
       "      <td>4</td>\n",
       "      <td>4</td>\n",
       "      <td>3</td>\n",
       "      <td>3</td>\n",
       "      <td>4</td>\n",
       "      <td>4</td>\n",
       "      <td>3</td>\n",
       "      <td>app development</td>\n",
       "      <td>cloud computing</td>\n",
       "      <td>5</td>\n",
       "      <td>Employable</td>\n",
       "      <td>Business Systems Analyst</td>\n",
       "    </tr>\n",
       "  </tbody>\n",
       "</table>\n",
       "</div>"
      ],
      "text/plain": [
       "  Name of Student  GENERAL APPEARANCE  MANNER OF SPEAKING  PHYSICAL CONDITION  \\\n",
       "0       Student 1                   4                   5                   4   \n",
       "1       Student 2                   4                   4                   4   \n",
       "2       Student 3                   4                   3                   3   \n",
       "3       Student 4                   3                   3                   3   \n",
       "4       Student 5                   4                   4                   3   \n",
       "\n",
       "   MENTAL ALERTNESS  SELF-CONFIDENCE  ABILITY TO PRESENT IDEAS  \\\n",
       "0                 5                5                         5   \n",
       "1                 4                4                         4   \n",
       "2                 3                3                         3   \n",
       "3                 2                3                         3   \n",
       "4                 3                4                         4   \n",
       "\n",
       "   COMMUNICATION SKILLS     certifications          workshops  \\\n",
       "0                     5  shell programming    cloud computing   \n",
       "1                     3   machine learning  database security   \n",
       "2                     2    app development   web technologies   \n",
       "3                     3             python       data science   \n",
       "4                     3    app development    cloud computing   \n",
       "\n",
       "   Student Performance Rating           CLASS              Suggested Job Role  \n",
       "0                           5      Employable              Database Developer  \n",
       "1                           5      Employable            Portal Administrator  \n",
       "2                           5  LessEmployable            Portal Administrator  \n",
       "3                           5  LessEmployable  Systems Security Administrator  \n",
       "4                           5      Employable        Business Systems Analyst  "
      ]
     },
     "execution_count": 4,
     "metadata": {},
     "output_type": "execute_result"
    }
   ],
   "source": [
    "data.head()"
   ]
  },
  {
   "cell_type": "code",
   "execution_count": 5,
   "id": "d337cf77",
   "metadata": {},
   "outputs": [
    {
     "data": {
      "text/html": [
       "<div>\n",
       "<style scoped>\n",
       "    .dataframe tbody tr th:only-of-type {\n",
       "        vertical-align: middle;\n",
       "    }\n",
       "\n",
       "    .dataframe tbody tr th {\n",
       "        vertical-align: top;\n",
       "    }\n",
       "\n",
       "    .dataframe thead th {\n",
       "        text-align: right;\n",
       "    }\n",
       "</style>\n",
       "<table border=\"1\" class=\"dataframe\">\n",
       "  <thead>\n",
       "    <tr style=\"text-align: right;\">\n",
       "      <th></th>\n",
       "      <th>Name of Student</th>\n",
       "      <th>GENERAL APPEARANCE</th>\n",
       "      <th>MANNER OF SPEAKING</th>\n",
       "      <th>PHYSICAL CONDITION</th>\n",
       "      <th>MENTAL ALERTNESS</th>\n",
       "      <th>SELF-CONFIDENCE</th>\n",
       "      <th>ABILITY TO PRESENT IDEAS</th>\n",
       "      <th>COMMUNICATION SKILLS</th>\n",
       "      <th>certifications</th>\n",
       "      <th>workshops</th>\n",
       "      <th>Student Performance Rating</th>\n",
       "      <th>CLASS</th>\n",
       "      <th>Suggested Job Role</th>\n",
       "    </tr>\n",
       "  </thead>\n",
       "  <tbody>\n",
       "    <tr>\n",
       "      <th>2977</th>\n",
       "      <td>Student 2996</td>\n",
       "      <td>4</td>\n",
       "      <td>3</td>\n",
       "      <td>3</td>\n",
       "      <td>3</td>\n",
       "      <td>3</td>\n",
       "      <td>3</td>\n",
       "      <td>2</td>\n",
       "      <td>distro making</td>\n",
       "      <td>system designing</td>\n",
       "      <td>5</td>\n",
       "      <td>Employable</td>\n",
       "      <td>Information Technology Auditor</td>\n",
       "    </tr>\n",
       "    <tr>\n",
       "      <th>2978</th>\n",
       "      <td>Student 2997</td>\n",
       "      <td>3</td>\n",
       "      <td>4</td>\n",
       "      <td>4</td>\n",
       "      <td>4</td>\n",
       "      <td>4</td>\n",
       "      <td>4</td>\n",
       "      <td>4</td>\n",
       "      <td>r programming</td>\n",
       "      <td>system designing</td>\n",
       "      <td>5</td>\n",
       "      <td>Employable</td>\n",
       "      <td>Project Manager</td>\n",
       "    </tr>\n",
       "    <tr>\n",
       "      <th>2979</th>\n",
       "      <td>Student 2998</td>\n",
       "      <td>4</td>\n",
       "      <td>5</td>\n",
       "      <td>4</td>\n",
       "      <td>5</td>\n",
       "      <td>4</td>\n",
       "      <td>4</td>\n",
       "      <td>4</td>\n",
       "      <td>app development</td>\n",
       "      <td>database security</td>\n",
       "      <td>5</td>\n",
       "      <td>Employable</td>\n",
       "      <td>Technical Support</td>\n",
       "    </tr>\n",
       "    <tr>\n",
       "      <th>2980</th>\n",
       "      <td>Student 2999</td>\n",
       "      <td>4</td>\n",
       "      <td>4</td>\n",
       "      <td>4</td>\n",
       "      <td>3</td>\n",
       "      <td>4</td>\n",
       "      <td>4</td>\n",
       "      <td>3</td>\n",
       "      <td>distro making</td>\n",
       "      <td>data science</td>\n",
       "      <td>5</td>\n",
       "      <td>LessEmployable</td>\n",
       "      <td>Software Quality Assurance (QA) / Testing</td>\n",
       "    </tr>\n",
       "    <tr>\n",
       "      <th>2981</th>\n",
       "      <td>Student 3000</td>\n",
       "      <td>4</td>\n",
       "      <td>4</td>\n",
       "      <td>4</td>\n",
       "      <td>4</td>\n",
       "      <td>3</td>\n",
       "      <td>4</td>\n",
       "      <td>4</td>\n",
       "      <td>information security</td>\n",
       "      <td>data science</td>\n",
       "      <td>5</td>\n",
       "      <td>Employable</td>\n",
       "      <td>Technical Support</td>\n",
       "    </tr>\n",
       "  </tbody>\n",
       "</table>\n",
       "</div>"
      ],
      "text/plain": [
       "     Name of Student  GENERAL APPEARANCE  MANNER OF SPEAKING  \\\n",
       "2977    Student 2996                   4                   3   \n",
       "2978    Student 2997                   3                   4   \n",
       "2979    Student 2998                   4                   5   \n",
       "2980    Student 2999                   4                   4   \n",
       "2981    Student 3000                   4                   4   \n",
       "\n",
       "      PHYSICAL CONDITION  MENTAL ALERTNESS  SELF-CONFIDENCE  \\\n",
       "2977                   3                 3                3   \n",
       "2978                   4                 4                4   \n",
       "2979                   4                 5                4   \n",
       "2980                   4                 3                4   \n",
       "2981                   4                 4                3   \n",
       "\n",
       "      ABILITY TO PRESENT IDEAS  COMMUNICATION SKILLS        certifications  \\\n",
       "2977                         3                     2         distro making   \n",
       "2978                         4                     4         r programming   \n",
       "2979                         4                     4       app development   \n",
       "2980                         4                     3         distro making   \n",
       "2981                         4                     4  information security   \n",
       "\n",
       "              workshops  Student Performance Rating           CLASS  \\\n",
       "2977   system designing                           5      Employable   \n",
       "2978   system designing                           5      Employable   \n",
       "2979  database security                           5      Employable   \n",
       "2980       data science                           5  LessEmployable   \n",
       "2981       data science                           5      Employable   \n",
       "\n",
       "                             Suggested Job Role  \n",
       "2977             Information Technology Auditor  \n",
       "2978                            Project Manager  \n",
       "2979                          Technical Support  \n",
       "2980  Software Quality Assurance (QA) / Testing  \n",
       "2981                          Technical Support  "
      ]
     },
     "execution_count": 5,
     "metadata": {},
     "output_type": "execute_result"
    }
   ],
   "source": [
    "data.tail()"
   ]
  },
  {
   "cell_type": "code",
   "execution_count": 6,
   "id": "efc52042",
   "metadata": {},
   "outputs": [
    {
     "data": {
      "text/html": [
       "<div>\n",
       "<style scoped>\n",
       "    .dataframe tbody tr th:only-of-type {\n",
       "        vertical-align: middle;\n",
       "    }\n",
       "\n",
       "    .dataframe tbody tr th {\n",
       "        vertical-align: top;\n",
       "    }\n",
       "\n",
       "    .dataframe thead th {\n",
       "        text-align: right;\n",
       "    }\n",
       "</style>\n",
       "<table border=\"1\" class=\"dataframe\">\n",
       "  <thead>\n",
       "    <tr style=\"text-align: right;\">\n",
       "      <th></th>\n",
       "      <th>Name of Student</th>\n",
       "      <th>GENERAL APPEARANCE</th>\n",
       "      <th>MANNER OF SPEAKING</th>\n",
       "      <th>PHYSICAL CONDITION</th>\n",
       "      <th>MENTAL ALERTNESS</th>\n",
       "      <th>SELF-CONFIDENCE</th>\n",
       "      <th>ABILITY TO PRESENT IDEAS</th>\n",
       "      <th>COMMUNICATION SKILLS</th>\n",
       "      <th>certifications</th>\n",
       "      <th>workshops</th>\n",
       "      <th>Student Performance Rating</th>\n",
       "      <th>CLASS</th>\n",
       "      <th>Suggested Job Role</th>\n",
       "    </tr>\n",
       "  </thead>\n",
       "  <tbody>\n",
       "    <tr>\n",
       "      <th>2977</th>\n",
       "      <td>Student 2996</td>\n",
       "      <td>4</td>\n",
       "      <td>3</td>\n",
       "      <td>3</td>\n",
       "      <td>3</td>\n",
       "      <td>3</td>\n",
       "      <td>3</td>\n",
       "      <td>2</td>\n",
       "      <td>distro making</td>\n",
       "      <td>system designing</td>\n",
       "      <td>5</td>\n",
       "      <td>Employable</td>\n",
       "      <td>Information Technology Auditor</td>\n",
       "    </tr>\n",
       "    <tr>\n",
       "      <th>2978</th>\n",
       "      <td>Student 2997</td>\n",
       "      <td>3</td>\n",
       "      <td>4</td>\n",
       "      <td>4</td>\n",
       "      <td>4</td>\n",
       "      <td>4</td>\n",
       "      <td>4</td>\n",
       "      <td>4</td>\n",
       "      <td>r programming</td>\n",
       "      <td>system designing</td>\n",
       "      <td>5</td>\n",
       "      <td>Employable</td>\n",
       "      <td>Project Manager</td>\n",
       "    </tr>\n",
       "    <tr>\n",
       "      <th>2979</th>\n",
       "      <td>Student 2998</td>\n",
       "      <td>4</td>\n",
       "      <td>5</td>\n",
       "      <td>4</td>\n",
       "      <td>5</td>\n",
       "      <td>4</td>\n",
       "      <td>4</td>\n",
       "      <td>4</td>\n",
       "      <td>app development</td>\n",
       "      <td>database security</td>\n",
       "      <td>5</td>\n",
       "      <td>Employable</td>\n",
       "      <td>Technical Support</td>\n",
       "    </tr>\n",
       "    <tr>\n",
       "      <th>2980</th>\n",
       "      <td>Student 2999</td>\n",
       "      <td>4</td>\n",
       "      <td>4</td>\n",
       "      <td>4</td>\n",
       "      <td>3</td>\n",
       "      <td>4</td>\n",
       "      <td>4</td>\n",
       "      <td>3</td>\n",
       "      <td>distro making</td>\n",
       "      <td>data science</td>\n",
       "      <td>5</td>\n",
       "      <td>LessEmployable</td>\n",
       "      <td>Software Quality Assurance (QA) / Testing</td>\n",
       "    </tr>\n",
       "    <tr>\n",
       "      <th>2981</th>\n",
       "      <td>Student 3000</td>\n",
       "      <td>4</td>\n",
       "      <td>4</td>\n",
       "      <td>4</td>\n",
       "      <td>4</td>\n",
       "      <td>3</td>\n",
       "      <td>4</td>\n",
       "      <td>4</td>\n",
       "      <td>information security</td>\n",
       "      <td>data science</td>\n",
       "      <td>5</td>\n",
       "      <td>Employable</td>\n",
       "      <td>Technical Support</td>\n",
       "    </tr>\n",
       "  </tbody>\n",
       "</table>\n",
       "</div>"
      ],
      "text/plain": [
       "     Name of Student  GENERAL APPEARANCE  MANNER OF SPEAKING  \\\n",
       "2977    Student 2996                   4                   3   \n",
       "2978    Student 2997                   3                   4   \n",
       "2979    Student 2998                   4                   5   \n",
       "2980    Student 2999                   4                   4   \n",
       "2981    Student 3000                   4                   4   \n",
       "\n",
       "      PHYSICAL CONDITION  MENTAL ALERTNESS  SELF-CONFIDENCE  \\\n",
       "2977                   3                 3                3   \n",
       "2978                   4                 4                4   \n",
       "2979                   4                 5                4   \n",
       "2980                   4                 3                4   \n",
       "2981                   4                 4                3   \n",
       "\n",
       "      ABILITY TO PRESENT IDEAS  COMMUNICATION SKILLS        certifications  \\\n",
       "2977                         3                     2         distro making   \n",
       "2978                         4                     4         r programming   \n",
       "2979                         4                     4       app development   \n",
       "2980                         4                     3         distro making   \n",
       "2981                         4                     4  information security   \n",
       "\n",
       "              workshops  Student Performance Rating           CLASS  \\\n",
       "2977   system designing                           5      Employable   \n",
       "2978   system designing                           5      Employable   \n",
       "2979  database security                           5      Employable   \n",
       "2980       data science                           5  LessEmployable   \n",
       "2981       data science                           5      Employable   \n",
       "\n",
       "                             Suggested Job Role  \n",
       "2977             Information Technology Auditor  \n",
       "2978                            Project Manager  \n",
       "2979                          Technical Support  \n",
       "2980  Software Quality Assurance (QA) / Testing  \n",
       "2981                          Technical Support  "
      ]
     },
     "execution_count": 6,
     "metadata": {},
     "output_type": "execute_result"
    }
   ],
   "source": [
    "data.tail()"
   ]
  },
  {
   "cell_type": "code",
   "execution_count": 7,
   "id": "759e8518",
   "metadata": {},
   "outputs": [
    {
     "data": {
      "text/html": [
       "<div>\n",
       "<style scoped>\n",
       "    .dataframe tbody tr th:only-of-type {\n",
       "        vertical-align: middle;\n",
       "    }\n",
       "\n",
       "    .dataframe tbody tr th {\n",
       "        vertical-align: top;\n",
       "    }\n",
       "\n",
       "    .dataframe thead th {\n",
       "        text-align: right;\n",
       "    }\n",
       "</style>\n",
       "<table border=\"1\" class=\"dataframe\">\n",
       "  <thead>\n",
       "    <tr style=\"text-align: right;\">\n",
       "      <th></th>\n",
       "      <th>GENERAL APPEARANCE</th>\n",
       "      <th>MANNER OF SPEAKING</th>\n",
       "      <th>PHYSICAL CONDITION</th>\n",
       "      <th>MENTAL ALERTNESS</th>\n",
       "      <th>SELF-CONFIDENCE</th>\n",
       "      <th>ABILITY TO PRESENT IDEAS</th>\n",
       "      <th>COMMUNICATION SKILLS</th>\n",
       "      <th>Student Performance Rating</th>\n",
       "    </tr>\n",
       "  </thead>\n",
       "  <tbody>\n",
       "    <tr>\n",
       "      <th>count</th>\n",
       "      <td>2982.000000</td>\n",
       "      <td>2982.000000</td>\n",
       "      <td>2982.000000</td>\n",
       "      <td>2982.000000</td>\n",
       "      <td>2982.000000</td>\n",
       "      <td>2982.000000</td>\n",
       "      <td>2982.000000</td>\n",
       "      <td>2982.000000</td>\n",
       "    </tr>\n",
       "    <tr>\n",
       "      <th>mean</th>\n",
       "      <td>4.246814</td>\n",
       "      <td>3.884641</td>\n",
       "      <td>3.972166</td>\n",
       "      <td>3.962777</td>\n",
       "      <td>3.910798</td>\n",
       "      <td>3.813883</td>\n",
       "      <td>3.525486</td>\n",
       "      <td>4.610664</td>\n",
       "    </tr>\n",
       "    <tr>\n",
       "      <th>std</th>\n",
       "      <td>0.678501</td>\n",
       "      <td>0.757013</td>\n",
       "      <td>0.744135</td>\n",
       "      <td>0.781982</td>\n",
       "      <td>0.807602</td>\n",
       "      <td>0.739390</td>\n",
       "      <td>0.743881</td>\n",
       "      <td>0.692845</td>\n",
       "    </tr>\n",
       "    <tr>\n",
       "      <th>min</th>\n",
       "      <td>2.000000</td>\n",
       "      <td>2.000000</td>\n",
       "      <td>2.000000</td>\n",
       "      <td>2.000000</td>\n",
       "      <td>2.000000</td>\n",
       "      <td>2.000000</td>\n",
       "      <td>2.000000</td>\n",
       "      <td>3.000000</td>\n",
       "    </tr>\n",
       "    <tr>\n",
       "      <th>25%</th>\n",
       "      <td>4.000000</td>\n",
       "      <td>3.000000</td>\n",
       "      <td>3.000000</td>\n",
       "      <td>3.000000</td>\n",
       "      <td>3.000000</td>\n",
       "      <td>3.000000</td>\n",
       "      <td>3.000000</td>\n",
       "      <td>4.000000</td>\n",
       "    </tr>\n",
       "    <tr>\n",
       "      <th>50%</th>\n",
       "      <td>4.000000</td>\n",
       "      <td>4.000000</td>\n",
       "      <td>4.000000</td>\n",
       "      <td>4.000000</td>\n",
       "      <td>4.000000</td>\n",
       "      <td>4.000000</td>\n",
       "      <td>3.000000</td>\n",
       "      <td>5.000000</td>\n",
       "    </tr>\n",
       "    <tr>\n",
       "      <th>75%</th>\n",
       "      <td>5.000000</td>\n",
       "      <td>4.000000</td>\n",
       "      <td>5.000000</td>\n",
       "      <td>5.000000</td>\n",
       "      <td>5.000000</td>\n",
       "      <td>4.000000</td>\n",
       "      <td>4.000000</td>\n",
       "      <td>5.000000</td>\n",
       "    </tr>\n",
       "    <tr>\n",
       "      <th>max</th>\n",
       "      <td>5.000000</td>\n",
       "      <td>5.000000</td>\n",
       "      <td>5.000000</td>\n",
       "      <td>5.000000</td>\n",
       "      <td>5.000000</td>\n",
       "      <td>5.000000</td>\n",
       "      <td>5.000000</td>\n",
       "      <td>5.000000</td>\n",
       "    </tr>\n",
       "  </tbody>\n",
       "</table>\n",
       "</div>"
      ],
      "text/plain": [
       "       GENERAL APPEARANCE  MANNER OF SPEAKING  PHYSICAL CONDITION  \\\n",
       "count         2982.000000         2982.000000         2982.000000   \n",
       "mean             4.246814            3.884641            3.972166   \n",
       "std              0.678501            0.757013            0.744135   \n",
       "min              2.000000            2.000000            2.000000   \n",
       "25%              4.000000            3.000000            3.000000   \n",
       "50%              4.000000            4.000000            4.000000   \n",
       "75%              5.000000            4.000000            5.000000   \n",
       "max              5.000000            5.000000            5.000000   \n",
       "\n",
       "       MENTAL ALERTNESS  SELF-CONFIDENCE  ABILITY TO PRESENT IDEAS  \\\n",
       "count       2982.000000      2982.000000               2982.000000   \n",
       "mean           3.962777         3.910798                  3.813883   \n",
       "std            0.781982         0.807602                  0.739390   \n",
       "min            2.000000         2.000000                  2.000000   \n",
       "25%            3.000000         3.000000                  3.000000   \n",
       "50%            4.000000         4.000000                  4.000000   \n",
       "75%            5.000000         5.000000                  4.000000   \n",
       "max            5.000000         5.000000                  5.000000   \n",
       "\n",
       "       COMMUNICATION SKILLS  Student Performance Rating  \n",
       "count           2982.000000                 2982.000000  \n",
       "mean               3.525486                    4.610664  \n",
       "std                0.743881                    0.692845  \n",
       "min                2.000000                    3.000000  \n",
       "25%                3.000000                    4.000000  \n",
       "50%                3.000000                    5.000000  \n",
       "75%                4.000000                    5.000000  \n",
       "max                5.000000                    5.000000  "
      ]
     },
     "execution_count": 7,
     "metadata": {},
     "output_type": "execute_result"
    }
   ],
   "source": [
    "data.describe()"
   ]
  },
  {
   "cell_type": "code",
   "execution_count": 8,
   "id": "5b2e6305",
   "metadata": {},
   "outputs": [
    {
     "data": {
      "text/plain": [
       "(2982, 13)"
      ]
     },
     "execution_count": 8,
     "metadata": {},
     "output_type": "execute_result"
    }
   ],
   "source": [
    "data.shape"
   ]
  },
  {
   "cell_type": "code",
   "execution_count": 9,
   "id": "c90c82d5",
   "metadata": {},
   "outputs": [
    {
     "data": {
      "text/plain": [
       "Index(['Name of Student', 'GENERAL APPEARANCE', 'MANNER OF SPEAKING',\n",
       "       'PHYSICAL CONDITION', 'MENTAL ALERTNESS', 'SELF-CONFIDENCE',\n",
       "       'ABILITY TO PRESENT IDEAS', 'COMMUNICATION SKILLS', 'certifications',\n",
       "       'workshops', 'Student Performance Rating', 'CLASS',\n",
       "       'Suggested Job Role'],\n",
       "      dtype='object')"
      ]
     },
     "execution_count": 9,
     "metadata": {},
     "output_type": "execute_result"
    }
   ],
   "source": [
    "data.columns"
   ]
  },
  {
   "cell_type": "code",
   "execution_count": 10,
   "id": "44601106",
   "metadata": {},
   "outputs": [
    {
     "name": "stdout",
     "output_type": "stream",
     "text": [
      "Name of Student               object\n",
      "GENERAL APPEARANCE             int64\n",
      "MANNER OF SPEAKING             int64\n",
      "PHYSICAL CONDITION             int64\n",
      "MENTAL ALERTNESS               int64\n",
      "SELF-CONFIDENCE                int64\n",
      "ABILITY TO PRESENT IDEAS       int64\n",
      "COMMUNICATION SKILLS           int64\n",
      "certifications                object\n",
      "workshops                     object\n",
      "Student Performance Rating     int64\n",
      "CLASS                         object\n",
      "Suggested Job Role            object\n",
      "dtype: object\n"
     ]
    }
   ],
   "source": [
    "print(data.dtypes)"
   ]
  },
  {
   "cell_type": "code",
   "execution_count": 11,
   "id": "7543b30f",
   "metadata": {},
   "outputs": [
    {
     "data": {
      "text/plain": [
       "0"
      ]
     },
     "execution_count": 11,
     "metadata": {},
     "output_type": "execute_result"
    }
   ],
   "source": [
    "data.duplicated().sum()"
   ]
  },
  {
   "cell_type": "code",
   "execution_count": 12,
   "id": "765b6b69",
   "metadata": {},
   "outputs": [
    {
     "data": {
      "text/plain": [
       "Name of Student               0\n",
       "GENERAL APPEARANCE            0\n",
       "MANNER OF SPEAKING            0\n",
       "PHYSICAL CONDITION            0\n",
       "MENTAL ALERTNESS              0\n",
       "SELF-CONFIDENCE               0\n",
       "ABILITY TO PRESENT IDEAS      0\n",
       "COMMUNICATION SKILLS          0\n",
       "certifications                0\n",
       "workshops                     0\n",
       "Student Performance Rating    0\n",
       "CLASS                         0\n",
       "Suggested Job Role            0\n",
       "dtype: int64"
      ]
     },
     "execution_count": 12,
     "metadata": {},
     "output_type": "execute_result"
    }
   ],
   "source": [
    "data.isnull().sum()"
   ]
  },
  {
   "cell_type": "code",
   "execution_count": 13,
   "id": "0f2a94e3",
   "metadata": {},
   "outputs": [],
   "source": [
    "data['Name of Student'] = pd.to_numeric(data['Name of Student'], errors='coerce')"
   ]
  },
  {
   "cell_type": "code",
   "execution_count": 14,
   "id": "7702dde3",
   "metadata": {},
   "outputs": [],
   "source": [
    "label_encoder = LabelEncoder()"
   ]
  },
  {
   "cell_type": "code",
   "execution_count": 15,
   "id": "9ea240ec",
   "metadata": {},
   "outputs": [],
   "source": [
    "for column in data.columns:\n",
    "    if data[column].dtype == 'O':\n",
    "        data[column] = label_encoder.fit_transform(data[column])"
   ]
  },
  {
   "cell_type": "code",
   "execution_count": 16,
   "id": "f40c2db4",
   "metadata": {},
   "outputs": [],
   "source": [
    "target_variable = 'CLASS'"
   ]
  },
  {
   "cell_type": "code",
   "execution_count": 17,
   "id": "9e135334",
   "metadata": {},
   "outputs": [],
   "source": [
    "numeric_data = data.select_dtypes(include=['number'])"
   ]
  },
  {
   "cell_type": "code",
   "execution_count": 18,
   "id": "813ede5f",
   "metadata": {},
   "outputs": [],
   "source": [
    "if target_variable not in numeric_data.columns:\n",
    "    raise ValueError(f\"Target variable '{target_variable}' not found in the dataset.\")"
   ]
  },
  {
   "cell_type": "code",
   "execution_count": 19,
   "id": "cf6ded4f",
   "metadata": {},
   "outputs": [],
   "source": [
    "X = numeric_data.drop([target_variable], axis=1)\n",
    "y = numeric_data[target_variable]"
   ]
  },
  {
   "cell_type": "code",
   "execution_count": 20,
   "id": "1d6cd338",
   "metadata": {},
   "outputs": [],
   "source": [
    "imputer = SimpleImputer(strategy='mean')\n",
    "X_imputed = imputer.fit_transform(X)"
   ]
  },
  {
   "cell_type": "code",
   "execution_count": 21,
   "id": "0cab9587",
   "metadata": {},
   "outputs": [],
   "source": [
    "X_train, X_test, y_train, y_test = train_test_split(X_imputed, y, test_size=0.2, random_state=42, stratify=y)"
   ]
  },
  {
   "cell_type": "code",
   "execution_count": 22,
   "id": "5e71f5f7",
   "metadata": {},
   "outputs": [],
   "source": [
    "model = RandomForestClassifier()\n"
   ]
  },
  {
   "cell_type": "code",
   "execution_count": 23,
   "id": "9e97cda5",
   "metadata": {},
   "outputs": [
    {
     "data": {
      "text/html": [
       "<style>#sk-container-id-1 {color: black;background-color: white;}#sk-container-id-1 pre{padding: 0;}#sk-container-id-1 div.sk-toggleable {background-color: white;}#sk-container-id-1 label.sk-toggleable__label {cursor: pointer;display: block;width: 100%;margin-bottom: 0;padding: 0.3em;box-sizing: border-box;text-align: center;}#sk-container-id-1 label.sk-toggleable__label-arrow:before {content: \"▸\";float: left;margin-right: 0.25em;color: #696969;}#sk-container-id-1 label.sk-toggleable__label-arrow:hover:before {color: black;}#sk-container-id-1 div.sk-estimator:hover label.sk-toggleable__label-arrow:before {color: black;}#sk-container-id-1 div.sk-toggleable__content {max-height: 0;max-width: 0;overflow: hidden;text-align: left;background-color: #f0f8ff;}#sk-container-id-1 div.sk-toggleable__content pre {margin: 0.2em;color: black;border-radius: 0.25em;background-color: #f0f8ff;}#sk-container-id-1 input.sk-toggleable__control:checked~div.sk-toggleable__content {max-height: 200px;max-width: 100%;overflow: auto;}#sk-container-id-1 input.sk-toggleable__control:checked~label.sk-toggleable__label-arrow:before {content: \"▾\";}#sk-container-id-1 div.sk-estimator input.sk-toggleable__control:checked~label.sk-toggleable__label {background-color: #d4ebff;}#sk-container-id-1 div.sk-label input.sk-toggleable__control:checked~label.sk-toggleable__label {background-color: #d4ebff;}#sk-container-id-1 input.sk-hidden--visually {border: 0;clip: rect(1px 1px 1px 1px);clip: rect(1px, 1px, 1px, 1px);height: 1px;margin: -1px;overflow: hidden;padding: 0;position: absolute;width: 1px;}#sk-container-id-1 div.sk-estimator {font-family: monospace;background-color: #f0f8ff;border: 1px dotted black;border-radius: 0.25em;box-sizing: border-box;margin-bottom: 0.5em;}#sk-container-id-1 div.sk-estimator:hover {background-color: #d4ebff;}#sk-container-id-1 div.sk-parallel-item::after {content: \"\";width: 100%;border-bottom: 1px solid gray;flex-grow: 1;}#sk-container-id-1 div.sk-label:hover label.sk-toggleable__label {background-color: #d4ebff;}#sk-container-id-1 div.sk-serial::before {content: \"\";position: absolute;border-left: 1px solid gray;box-sizing: border-box;top: 0;bottom: 0;left: 50%;z-index: 0;}#sk-container-id-1 div.sk-serial {display: flex;flex-direction: column;align-items: center;background-color: white;padding-right: 0.2em;padding-left: 0.2em;position: relative;}#sk-container-id-1 div.sk-item {position: relative;z-index: 1;}#sk-container-id-1 div.sk-parallel {display: flex;align-items: stretch;justify-content: center;background-color: white;position: relative;}#sk-container-id-1 div.sk-item::before, #sk-container-id-1 div.sk-parallel-item::before {content: \"\";position: absolute;border-left: 1px solid gray;box-sizing: border-box;top: 0;bottom: 0;left: 50%;z-index: -1;}#sk-container-id-1 div.sk-parallel-item {display: flex;flex-direction: column;z-index: 1;position: relative;background-color: white;}#sk-container-id-1 div.sk-parallel-item:first-child::after {align-self: flex-end;width: 50%;}#sk-container-id-1 div.sk-parallel-item:last-child::after {align-self: flex-start;width: 50%;}#sk-container-id-1 div.sk-parallel-item:only-child::after {width: 0;}#sk-container-id-1 div.sk-dashed-wrapped {border: 1px dashed gray;margin: 0 0.4em 0.5em 0.4em;box-sizing: border-box;padding-bottom: 0.4em;background-color: white;}#sk-container-id-1 div.sk-label label {font-family: monospace;font-weight: bold;display: inline-block;line-height: 1.2em;}#sk-container-id-1 div.sk-label-container {text-align: center;}#sk-container-id-1 div.sk-container {/* jupyter's `normalize.less` sets `[hidden] { display: none; }` but bootstrap.min.css set `[hidden] { display: none !important; }` so we also need the `!important` here to be able to override the default hidden behavior on the sphinx rendered scikit-learn.org. See: https://github.com/scikit-learn/scikit-learn/issues/21755 */display: inline-block !important;position: relative;}#sk-container-id-1 div.sk-text-repr-fallback {display: none;}</style><div id=\"sk-container-id-1\" class=\"sk-top-container\"><div class=\"sk-text-repr-fallback\"><pre>RandomForestClassifier()</pre><b>In a Jupyter environment, please rerun this cell to show the HTML representation or trust the notebook. <br />On GitHub, the HTML representation is unable to render, please try loading this page with nbviewer.org.</b></div><div class=\"sk-container\" hidden><div class=\"sk-item\"><div class=\"sk-estimator sk-toggleable\"><input class=\"sk-toggleable__control sk-hidden--visually\" id=\"sk-estimator-id-1\" type=\"checkbox\" checked><label for=\"sk-estimator-id-1\" class=\"sk-toggleable__label sk-toggleable__label-arrow\">RandomForestClassifier</label><div class=\"sk-toggleable__content\"><pre>RandomForestClassifier()</pre></div></div></div></div></div>"
      ],
      "text/plain": [
       "RandomForestClassifier()"
      ]
     },
     "execution_count": 23,
     "metadata": {},
     "output_type": "execute_result"
    }
   ],
   "source": [
    "model.fit(X_train, y_train)"
   ]
  },
  {
   "cell_type": "code",
   "execution_count": 24,
   "id": "f5382c22",
   "metadata": {},
   "outputs": [],
   "source": [
    "predictions = model.predict(X_test)"
   ]
  },
  {
   "cell_type": "code",
   "execution_count": 25,
   "id": "b0abdb1f",
   "metadata": {},
   "outputs": [
    {
     "name": "stdout",
     "output_type": "stream",
     "text": [
      "Accuracy: 0.8944723618090452\n",
      "Classification Report:\n",
      "               precision    recall  f1-score   support\n",
      "\n",
      "           0       0.89      0.93      0.91       346\n",
      "           1       0.90      0.84      0.87       251\n",
      "\n",
      "    accuracy                           0.89       597\n",
      "   macro avg       0.90      0.89      0.89       597\n",
      "weighted avg       0.89      0.89      0.89       597\n",
      "\n"
     ]
    }
   ],
   "source": [
    "print(\"Accuracy:\", accuracy_score(y_test, predictions))\n",
    "print(\"Classification Report:\\n\", classification_report(y_test, predictions))"
   ]
  },
  {
   "cell_type": "code",
   "execution_count": 26,
   "id": "d8fa8df0",
   "metadata": {},
   "outputs": [],
   "source": [
    "from sklearn.metrics import confusion_matrix"
   ]
  },
  {
   "cell_type": "code",
   "execution_count": 27,
   "id": "24f8a2fb",
   "metadata": {},
   "outputs": [
    {
     "name": "stdout",
     "output_type": "stream",
     "text": [
      "Confusion matrix:\n",
      " [[322  24]\n",
      " [ 39 212]]\n"
     ]
    }
   ],
   "source": [
    "print(\"Confusion matrix:\\n\",confusion_matrix(y_test,predictions))"
   ]
  },
  {
   "cell_type": "code",
   "execution_count": 28,
   "id": "0963a002",
   "metadata": {},
   "outputs": [],
   "source": []
  },
  {
   "cell_type": "code",
   "execution_count": null,
   "id": "0dde3566",
   "metadata": {},
   "outputs": [],
   "source": []
  }
 ],
 "metadata": {
  "kernelspec": {
   "display_name": "Python 3 (ipykernel)",
   "language": "python",
   "name": "python3"
  },
  "language_info": {
   "codemirror_mode": {
    "name": "ipython",
    "version": 3
   },
   "file_extension": ".py",
   "mimetype": "text/x-python",
   "name": "python",
   "nbconvert_exporter": "python",
   "pygments_lexer": "ipython3",
   "version": "3.10.9"
  }
 },
 "nbformat": 4,
 "nbformat_minor": 5
}
